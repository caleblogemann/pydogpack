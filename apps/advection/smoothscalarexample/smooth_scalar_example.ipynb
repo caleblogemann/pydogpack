{
 "cells": [
  {
   "cell_type": "code",
   "execution_count": 3,
   "metadata": {},
   "outputs": [],
   "source": [
    "from pydogpack.utils import x_functions\n",
    "from pydogpack import main\n",
    "from apps.advection.smoothscalarexample import smooth_scalar_example\n",
    "from apps.advection import advection\n",
    "from pydogpack.visualize import plot\n",
    "import pydogpack.math_utils as math_utils\n",
    "import pydogpack.dg_utils as dg_utils\n",
    "from pydogpack.tests.utils import utils"
   ]
  },
  {
   "cell_type": "markdown",
   "metadata": {},
   "source": [
    "# Smooth Scalar Advection Example"
   ]
  },
  {
   "cell_type": "code",
   "execution_count": 20,
   "metadata": {},
   "outputs": [
    {
     "data": {
      "image/png": "[encoded data removed]",
      "text/plain": [
       "<Figure size 432x288 with 1 Axes>"
      ]
     },
     "metadata": {
      "needs_background": "light"
     },
     "output_type": "display_data"
    }
   ],
   "source": [
    "wavespeed = 1.0\n",
    "initial_condition = x_functions.Sine()\n",
    "problem = smooth_scalar_example.SmoothScalarExample(wavespeed, initial_condition)\n",
    "problem.parameters[\"time_stepping\"][\"is_verbose\"] = False\n",
    "final_solution = main.run(problem)\n",
    "p = plot.get_dg_plot(final_solution)"
   ]
  },
  {
   "cell_type": "markdown",
   "metadata": {},
   "source": [
    "# Convergence Test"
   ]
  },
  {
   "cell_type": "markdown",
   "metadata": {},
   "source": [
    "## DG Convergence"
   ]
  },
  {
   "cell_type": "code",
   "execution_count": 26,
   "metadata": {},
   "outputs": [],
   "source": [
    "wavespeed = 1.0\n",
    "initial_condition = x_functions.Sine()\n",
    "final_time = 1.0\n",
    "exact_solution = advection.ExactSolution(initial_condition, wavespeed)\n",
    "exact_final_solution = x_functions.FrozenT(exact_solution, final_time)\n",
    "\n",
    "problem = smooth_scalar_example.SmoothScalarExample(wavespeed, initial_condition)\n",
    "problem.parameters[\"final_time\"] = final_time\n",
    "problem.parameters[\"is_weak\"] = True\n",
    "\n",
    "problem.parameters[\"basis\"][\"basis_class\"] = \"legendre\"\n",
    "problem.parameters[\"basis\"][\"inner_product_constant\"] = 0.5\n",
    "\n",
    "problem.parameters[\"time_stepping\"][\"time_stepping_class\"] = \"explicit_runge_kutta\"\n",
    "problem.parameters[\"time_stepping\"][\"is_verbose\"] = False\n",
    "\n",
    "problem.parameters[\"mesh\"][\"mesh_class\"] = \"mesh_1d_uniform\"\n",
    "problem.parameters[\"mesh\"][\"x_left\"] = 0.0\n",
    "problem.parameters[\"mesh\"][\"x_right\"] = 1.0\n",
    "\n",
    "problem.parameters[\"boundary_condition\"][\"boundary_condition_class\"] = \"periodic\"\n",
    "problem.parameters[\"riemann_solver\"][\"riemann_solver_class\"] = \"local_lax_friedrichs\""
   ]
  },
  {
   "cell_type": "code",
   "execution_count": 42,
   "metadata": {},
   "outputs": [
    {
     "name": "stdout",
     "output_type": "stream",
     "text": [
      "1.0\n",
      "2.0\n",
      "3.0\n",
      "4.0\n"
     ]
    }
   ],
   "source": [
    "for num_basis_cpts in range(1, 5):\n",
    "    problem.parameters[\"basis\"][\"num_basis_cpts\"] = num_basis_cpts\n",
    "    problem.parameters[\"time_stepping\"][\"order\"] = num_basis_cpts\n",
    "    \n",
    "    cfl = dg_utils.standard_cfls(num_basis_cpts)\n",
    "    error_list = []\n",
    "    for num_elems in [20, 40]:\n",
    "        problem.parameters[\"delta_t\"] = dg_utils.get_delta_t(cfl, wavespeed, 1.0 / num_elems)\n",
    "        problem.parameters[\"mesh\"][\"num_elems\"] = num_elems\n",
    "        final_solution = main.run(problem)\n",
    "        error = math_utils.compute_error(final_solution, exact_final_solution)\n",
    "        error_list.append(error)\n",
    "    order = utils.convergence_order(error_list)\n",
    "    print(order)\n",
    "    assert order >= num_basis_cpts"
   ]
  },
  {
   "cell_type": "markdown",
   "metadata": {},
   "source": [
    "## FV Convergence"
   ]
  },
  {
   "cell_type": "code",
   "execution_count": 5,
   "metadata": {},
   "outputs": [],
   "source": [
    "wavespeed = 1.0\n",
    "initial_condition = x_functions.Sine()\n",
    "final_time = 1.0\n",
    "exact_solution = advection.ExactSolution(initial_condition, wavespeed)\n",
    "exact_final_solution = x_functions.FrozenT(exact_solution, final_time)\n",
    "\n",
    "problem = smooth_scalar_example.SmoothScalarExample(wavespeed, initial_condition)\n",
    "problem.parameters[\"final_time\"] = final_time\n",
    "problem.parameters[\"use_wave_propogation_method\"] = True\n",
    "\n",
    "problem.parameters[\"basis\"][\"basis_class\"] = \"finite_volume\"\n",
    "\n",
    "problem.parameters[\"time_stepping\"][\"time_stepping_class\"] = \"explicit_runge_kutta\"\n",
    "problem.parameters[\"time_stepping\"][\"order\"] = 1\n",
    "problem.parameters[\"time_stepping\"][\"is_verbose\"] = False\n",
    "\n",
    "problem.parameters[\"mesh\"][\"mesh_class\"] = \"mesh_1d_uniform\"\n",
    "problem.parameters[\"mesh\"][\"x_left\"] = 0.0\n",
    "problem.parameters[\"mesh\"][\"x_right\"] = 1.0\n",
    "\n",
    "problem.parameters[\"fluctuation_solver\"][\"fluctuation_solver_class\"] = \"exact_linear\"\n",
    "\n",
    "problem.parameters[\"boundary_condition\"][\"boundary_condition_class\"] = \"periodic\""
   ]
  },
  {
   "cell_type": "code",
   "execution_count": 18,
   "metadata": {},
   "outputs": [
    {
     "name": "stdout",
     "output_type": "stream",
     "text": [
      "-1.0\n",
      "[1.0863599218806744e-15, 2.7797933034081654e-15]\n"
     ]
    },
    {
     "ename": "AssertionError",
     "evalue": "",
     "output_type": "error",
     "traceback": [
      "\u001b[0;31m---------------------------------------------------------------------------\u001b[0m",
      "\u001b[0;31mAssertionError\u001b[0m                            Traceback (most recent call last)",
      "\u001b[0;32m<ipython-input-18-3021c504dff2>\u001b[0m in \u001b[0;36m<module>\u001b[0;34m\u001b[0m\n\u001b[1;32m     10\u001b[0m \u001b[0mprint\u001b[0m\u001b[0;34m(\u001b[0m\u001b[0morder\u001b[0m\u001b[0;34m)\u001b[0m\u001b[0;34m\u001b[0m\u001b[0;34m\u001b[0m\u001b[0m\n\u001b[1;32m     11\u001b[0m \u001b[0mprint\u001b[0m\u001b[0;34m(\u001b[0m\u001b[0merror_list\u001b[0m\u001b[0;34m)\u001b[0m\u001b[0;34m\u001b[0m\u001b[0;34m\u001b[0m\u001b[0m\n\u001b[0;32m---> 12\u001b[0;31m \u001b[0;32massert\u001b[0m \u001b[0morder\u001b[0m \u001b[0;34m>=\u001b[0m \u001b[0;36m1\u001b[0m\u001b[0;34m\u001b[0m\u001b[0;34m\u001b[0m\u001b[0m\n\u001b[0m",
      "\u001b[0;31mAssertionError\u001b[0m: "
     ]
    }
   ],
   "source": [
    "cfl = dg_utils.standard_cfls(1)\n",
    "error_list = []\n",
    "for num_elems in [20, 40]:\n",
    "    problem.parameters[\"delta_t\"] = dg_utils.get_delta_t(cfl, wavespeed, 1.0 / num_elems)\n",
    "    problem.parameters[\"mesh\"][\"num_elems\"] = num_elems\n",
    "    final_solution = main.run(problem)\n",
    "    error = math_utils.compute_error(final_solution, exact_final_solution)\n",
    "    error_list.append(error)\n",
    "order = utils.convergence_order(error_list)\n",
    "print(order)\n",
    "print(error_list)\n",
    "assert order >= 1"
   ]
  },
  {
   "cell_type": "code",
   "execution_count": 38,
   "metadata": {},
   "outputs": [
    {
     "ename": "RuntimeError",
     "evalue": "Requested MovieWriter (ffmpeg) not available",
     "output_type": "error",
     "traceback": [
      "\u001b[0;31m---------------------------------------------------------------------------\u001b[0m",
      "\u001b[0;31mKeyError\u001b[0m                                  Traceback (most recent call last)",
      "\u001b[0;32m~/miniconda3/envs/Research/lib/python3.7/site-packages/matplotlib/animation.py\u001b[0m in \u001b[0;36m__getitem__\u001b[0;34m(self, name)\u001b[0m\n\u001b[1;32m    160\u001b[0m         \u001b[0;32mtry\u001b[0m\u001b[0;34m:\u001b[0m\u001b[0;34m\u001b[0m\u001b[0;34m\u001b[0m\u001b[0m\n\u001b[0;32m--> 161\u001b[0;31m             \u001b[0;32mreturn\u001b[0m \u001b[0mself\u001b[0m\u001b[0;34m.\u001b[0m\u001b[0mavail\u001b[0m\u001b[0;34m[\u001b[0m\u001b[0mname\u001b[0m\u001b[0;34m]\u001b[0m\u001b[0;34m\u001b[0m\u001b[0;34m\u001b[0m\u001b[0m\n\u001b[0m\u001b[1;32m    162\u001b[0m         \u001b[0;32mexcept\u001b[0m \u001b[0mKeyError\u001b[0m\u001b[0;34m:\u001b[0m\u001b[0;34m\u001b[0m\u001b[0;34m\u001b[0m\u001b[0m\n",
      "\u001b[0;31mKeyError\u001b[0m: 'ffmpeg'",
      "\nDuring handling of the above exception, another exception occurred:\n",
      "\u001b[0;31mRuntimeError\u001b[0m                              Traceback (most recent call last)",
      "\u001b[0;32m<ipython-input-38-bd51ae186e5c>\u001b[0m in \u001b[0;36m<module>\u001b[0;34m\u001b[0m\n\u001b[1;32m     32\u001b[0m \u001b[0;31m# ani.save(\"movie.mp4\", writer=writer)\u001b[0m\u001b[0;34m\u001b[0m\u001b[0;34m\u001b[0m\u001b[0;34m\u001b[0m\u001b[0m\n\u001b[1;32m     33\u001b[0m \u001b[0;32mfrom\u001b[0m \u001b[0mIPython\u001b[0m\u001b[0;34m.\u001b[0m\u001b[0mdisplay\u001b[0m \u001b[0;32mimport\u001b[0m \u001b[0mHTML\u001b[0m\u001b[0;34m\u001b[0m\u001b[0;34m\u001b[0m\u001b[0m\n\u001b[0;32m---> 34\u001b[0;31m \u001b[0mHTML\u001b[0m\u001b[0;34m(\u001b[0m\u001b[0mani\u001b[0m\u001b[0;34m.\u001b[0m\u001b[0mto_html5_video\u001b[0m\u001b[0;34m(\u001b[0m\u001b[0;34m)\u001b[0m\u001b[0;34m)\u001b[0m\u001b[0;34m\u001b[0m\u001b[0;34m\u001b[0m\u001b[0m\n\u001b[0m",
      "\u001b[0;32m~/miniconda3/envs/Research/lib/python3.7/site-packages/matplotlib/animation.py\u001b[0m in \u001b[0;36mto_html5_video\u001b[0;34m(self, embed_limit)\u001b[0m\n\u001b[1;32m   1324\u001b[0m                 \u001b[0;31m# We create a writer manually so that we can get the\u001b[0m\u001b[0;34m\u001b[0m\u001b[0;34m\u001b[0m\u001b[0;34m\u001b[0m\u001b[0m\n\u001b[1;32m   1325\u001b[0m                 \u001b[0;31m# appropriate size for the tag\u001b[0m\u001b[0;34m\u001b[0m\u001b[0;34m\u001b[0m\u001b[0;34m\u001b[0m\u001b[0m\n\u001b[0;32m-> 1326\u001b[0;31m                 \u001b[0mWriter\u001b[0m \u001b[0;34m=\u001b[0m \u001b[0mwriters\u001b[0m\u001b[0;34m[\u001b[0m\u001b[0mrcParams\u001b[0m\u001b[0;34m[\u001b[0m\u001b[0;34m'animation.writer'\u001b[0m\u001b[0;34m]\u001b[0m\u001b[0;34m]\u001b[0m\u001b[0;34m\u001b[0m\u001b[0;34m\u001b[0m\u001b[0m\n\u001b[0m\u001b[1;32m   1327\u001b[0m                 writer = Writer(codec='h264',\n\u001b[1;32m   1328\u001b[0m                                 \u001b[0mbitrate\u001b[0m\u001b[0;34m=\u001b[0m\u001b[0mrcParams\u001b[0m\u001b[0;34m[\u001b[0m\u001b[0;34m'animation.bitrate'\u001b[0m\u001b[0;34m]\u001b[0m\u001b[0;34m,\u001b[0m\u001b[0;34m\u001b[0m\u001b[0;34m\u001b[0m\u001b[0m\n",
      "\u001b[0;32m~/miniconda3/envs/Research/lib/python3.7/site-packages/matplotlib/animation.py\u001b[0m in \u001b[0;36m__getitem__\u001b[0;34m(self, name)\u001b[0m\n\u001b[1;32m    162\u001b[0m         \u001b[0;32mexcept\u001b[0m \u001b[0mKeyError\u001b[0m\u001b[0;34m:\u001b[0m\u001b[0;34m\u001b[0m\u001b[0;34m\u001b[0m\u001b[0m\n\u001b[1;32m    163\u001b[0m             raise RuntimeError(\n\u001b[0;32m--> 164\u001b[0;31m                 'Requested MovieWriter ({}) not available'.format(name))\n\u001b[0m\u001b[1;32m    165\u001b[0m \u001b[0;34m\u001b[0m\u001b[0m\n\u001b[1;32m    166\u001b[0m \u001b[0;34m\u001b[0m\u001b[0m\n",
      "\u001b[0;31mRuntimeError\u001b[0m: Requested MovieWriter (ffmpeg) not available"
     ]
    },
    {
     "data": {
      "image/png": "[encoded data removed]",
      "text/plain": [
       "<Figure size 432x288 with 1 Axes>"
      ]
     },
     "metadata": {
      "needs_background": "light"
     },
     "output_type": "display_data"
    }
   ],
   "source": [
    "import numpy as np\n",
    "import matplotlib.pyplot as plt\n",
    "import matplotlib.animation as animation\n",
    "\n",
    "fig = plt.figure()\n",
    "\n",
    "\n",
    "def f(x, y):\n",
    "    return np.sin(x) + np.cos(y)\n",
    "\n",
    "x = np.linspace(0, 2 * np.pi, 120)\n",
    "y = np.linspace(0, 2 * np.pi, 100).reshape(-1, 1)\n",
    "# ims is a list of lists, each row is a list of artists to draw in the\n",
    "# current frame; here we are just animating one artist, the image, in\n",
    "# each frame\n",
    "ims = []\n",
    "for i in range(2):\n",
    "    im = plt.plot(x, (i / 30)*np.sin(x), animated=True)\n",
    "    ims.append(im)\n",
    "\n",
    "ani = animation.ArtistAnimation(fig, ims, interval=5, blit=False,\n",
    "                                repeat_delay=1000)\n",
    "\n",
    "# To save the animation, use e.g.\n",
    "#\n",
    "# ani.save(\"movie.mp4\")\n",
    "#\n",
    "# or\n",
    "#\n",
    "# writer = animation.FFMpegWriter(\n",
    "#     fps=15, metadata=dict(artist='Me'), bitrate=1800)\n",
    "# ani.save(\"movie.mp4\", writer=writer)\n",
    "from IPython.display import HTML\n",
    "HTML(ani.to_html5_video())"
   ]
  },
  {
   "cell_type": "code",
   "execution_count": 35,
   "metadata": {},
   "outputs": [
    {
     "data": {
      "text/plain": [
       "[[<matplotlib.lines.Line2D at 0x11cb4d710>],\n",
       " [<matplotlib.lines.Line2D at 0x11cb4dc90>]]"
      ]
     },
     "execution_count": 35,
     "metadata": {},
     "output_type": "execute_result"
    }
   ],
   "source": [
    "ims"
   ]
  },
  {
   "cell_type": "code",
   "execution_count": null,
   "metadata": {},
   "outputs": [],
   "source": []
  }
 ],
 "metadata": {
  "kernelspec": {
   "display_name": "Python 3",
   "language": "python",
   "name": "python3"
  },
  "language_info": {
   "codemirror_mode": {
    "name": "ipython",
    "version": 3
   },
   "file_extension": ".py",
   "mimetype": "text/x-python",
   "name": "python",
   "nbconvert_exporter": "python",
   "pygments_lexer": "ipython3",
   "version": "3.7.6"
  }
 },
 "nbformat": 4,
 "nbformat_minor": 4
}
