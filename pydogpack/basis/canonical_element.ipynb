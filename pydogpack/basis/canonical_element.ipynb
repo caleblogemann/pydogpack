{
 "cells": [
  {
   "cell_type": "code",
   "execution_count": 28,
   "id": "4d490b25",
   "metadata": {},
   "outputs": [],
   "source": [
    "from pydogpack.basis import canonical_element\n",
    "\n",
    "import numpy as np"
   ]
  },
  {
   "cell_type": "markdown",
   "id": "1d95c5ff",
   "metadata": {},
   "source": [
    "# Canonical Elements"
   ]
  },
  {
   "cell_type": "markdown",
   "id": "e65545ad",
   "metadata": {},
   "source": [
    "## 1D Canonical Element"
   ]
  },
  {
   "cell_type": "markdown",
   "id": "f423b360",
   "metadata": {},
   "source": [
    "## Interval"
   ]
  },
  {
   "cell_type": "code",
   "execution_count": 11,
   "id": "23c9be8b",
   "metadata": {},
   "outputs": [
    {
     "data": {
      "image/png": "[encoded data removed]",
      "text/plain": [
       "<Figure size 432x288 with 1 Axes>"
      ]
     },
     "metadata": {
      "needs_background": "light"
     },
     "output_type": "display_data"
    }
   ],
   "source": [
    "interval = canonical_element.Interval()\n",
    "interval.create_plot_gauss_pts(10);"
   ]
  },
  {
   "cell_type": "code",
   "execution_count": 17,
   "id": "ddb413a8",
   "metadata": {},
   "outputs": [
    {
     "name": "stdout",
     "output_type": "stream",
     "text": [
      "Quadrature Points\n",
      "[-0.97390653 -0.86506337 -0.67940957 -0.43339539 -0.14887434  0.14887434\n",
      "  0.43339539  0.67940957  0.86506337  0.97390653]\n",
      "Quadrature Weights\n",
      "[0.06667134 0.14945135 0.21908636 0.26926672 0.29552422 0.29552422\n",
      " 0.26926672 0.21908636 0.14945135 0.06667134]\n"
     ]
    }
   ],
   "source": [
    "tuple_ = interval.gauss_pts_and_wgts(10)\n",
    "quad_pts = tuple_[0]\n",
    "quad_wgts = tuple_[1]\n",
    "print(\"Quadrature Points\")\n",
    "print(quad_pts)\n",
    "print(\"Quadrature Weights\")\n",
    "print(quad_wgts)"
   ]
  },
  {
   "cell_type": "markdown",
   "id": "0f14117d",
   "metadata": {},
   "source": [
    "### Transformations"
   ]
  },
  {
   "cell_type": "code",
   "execution_count": 68,
   "id": "debce755",
   "metadata": {},
   "outputs": [],
   "source": [
    "# random element\n",
    "vertex_list = np.sort(np.random.rand(2, 1), axis=0)\n",
    "tolerance = 1e-11\n",
    "# Transform from canonical to mesh and back\n",
    "xi = np.linspace(-1, 1, 10)\n",
    "x = interval.transform_to_mesh_vertex_list(xi, vertex_list)\n",
    "xi_2 = interval.transform_to_canonical_vertex_list(x, vertex_list)\n",
    "assert np.linalg.norm(xi - xi_2) <= tolerance\n",
    "\n",
    "# Jacobians of transformations are inverses of each other\n",
    "j_mesh = interval.transform_to_mesh_jacobian_vertex_list(vertex_list)\n",
    "j_canonical = interval.transform_to_canonical_jacobian_vertex_list(vertex_list)\n",
    "assert np.linalg.norm(j_mesh @ j_canonical - np.identity(1)) <= tolerance\n",
    "assert np.linalg.norm(j_canonical @ j_mesh - np.identity(1)) <= tolerance\n",
    "\n",
    "# Determinants of jacobians of transformations multipy to 1\n",
    "d_mesh = interval.transform_to_mesh_jacobian_determinant_vertex_list(vertex_list)\n",
    "d_canonical = interval.transform_to_canonical_jacobian_determinant_vertex_list(vertex_list)\n",
    "assert abs(d_mesh * d_canonical - 1) <= tolerance"
   ]
  },
  {
   "cell_type": "markdown",
   "id": "39230083",
   "metadata": {},
   "source": [
    "## 2D Canonical Elements"
   ]
  },
  {
   "cell_type": "markdown",
   "id": "bab3e146",
   "metadata": {},
   "source": [
    "## Square"
   ]
  },
  {
   "cell_type": "code",
   "execution_count": 21,
   "id": "5608e42f",
   "metadata": {},
   "outputs": [
    {
     "data": {
      "image/png": "[encoded data removed]",
      "text/plain": [
       "<Figure size 432x288 with 1 Axes>"
      ]
     },
     "metadata": {
      "needs_background": "light"
     },
     "output_type": "display_data"
    }
   ],
   "source": [
    "square = canonical_element.Square()\n",
    "square.create_plot_gauss_pts(5);"
   ]
  },
  {
   "cell_type": "markdown",
   "id": "fd8ec95e",
   "metadata": {},
   "source": [
    "### Transformations"
   ]
  },
  {
   "cell_type": "code",
   "execution_count": 78,
   "id": "faea0859",
   "metadata": {},
   "outputs": [],
   "source": [
    "# Random Element\n",
    "x = np.sort(np.random.rand(2))\n",
    "y = np.sort(np.random.rand(2))\n",
    "vertex_list = np.array([[x[0], y[0]], [x[1], y[0]], [x[1], y[1]], [x[0], y[1]]])\n",
    "\n",
    "tolerance = 1e-11\n",
    "\n",
    "# transform from canonical to mesh and back\n",
    "temp = np.linspace(-1, 1, 10)\n",
    "xi = np.array([temp, temp])\n",
    "x = square.transform_to_mesh_vertex_list(xi, vertex_list)\n",
    "xi_2 = square.transform_to_canonical_vertex_list(x, vertex_list)\n",
    "assert np.linalg.norm(xi - xi_2) <= tolerance\n",
    "\n",
    "# jacobians should be inverses of each other\n",
    "j_mesh = square.transform_to_mesh_jacobian_vertex_list(vertex_list)\n",
    "j_canonical = square.transform_to_canonical_jacobian_vertex_list(vertex_list)\n",
    "assert np.linalg.norm(j_mesh @ j_canonical - np.identity(2)) <= tolerance\n",
    "assert np.linalg.norm(j_canonical @ j_mesh - np.identity(2)) <= tolerance\n",
    "\n",
    "# determinants of jacobians should multiply to 1\n",
    "d_mesh = square.transform_to_mesh_jacobian_determinant_vertex_list(vertex_list)\n",
    "d_canonical = square.transform_to_canonical_jacobian_determinant_vertex_list(vertex_list)\n",
    "assert abs(d_mesh * d_canonical - 1) <= tolerance"
   ]
  },
  {
   "cell_type": "markdown",
   "id": "3d176b10",
   "metadata": {},
   "source": [
    "## Triangle"
   ]
  },
  {
   "cell_type": "code",
   "execution_count": 79,
   "id": "ae4ee672",
   "metadata": {},
   "outputs": [
    {
     "data": {
      "image/png": "[encoded data removed]",
      "text/plain": [
       "<Figure size 432x288 with 1 Axes>"
      ]
     },
     "metadata": {
      "needs_background": "light"
     },
     "output_type": "display_data"
    }
   ],
   "source": [
    "triangle = canonical_element.Triangle()\n",
    "triangle.create_plot_gauss_pts(6);"
   ]
  },
  {
   "cell_type": "markdown",
   "id": "82afd279",
   "metadata": {},
   "source": [
    "### Transformations"
   ]
  },
  {
   "cell_type": "code",
   "execution_count": 82,
   "id": "966ede5e",
   "metadata": {},
   "outputs": [],
   "source": [
    "# Random Element\n",
    "x = np.sort(np.random.rand(3))\n",
    "y = np.sort(np.random.rand(3))\n",
    "vertex_list = np.array([[x[1], y[2]], [x[0], y[0]], [x[2], y[1]]])\n",
    "\n",
    "tolerance = 1e-11\n",
    "\n",
    "# transform from canonical to mesh and back\n",
    "temp = np.linspace(-1, 1, 10)\n",
    "xi = np.array([temp, temp])\n",
    "x = triangle.transform_to_mesh_vertex_list(xi, vertex_list)\n",
    "xi_2 = triangle.transform_to_canonical_vertex_list(x, vertex_list)\n",
    "assert np.linalg.norm(xi - xi_2) <= tolerance\n",
    "\n",
    "# jacobians should be inverses of each other\n",
    "j_mesh = triangle.transform_to_mesh_jacobian_vertex_list(vertex_list)\n",
    "j_canonical = triangle.transform_to_canonical_jacobian_vertex_list(vertex_list)\n",
    "assert np.linalg.norm(j_mesh @ j_canonical - np.identity(2)) <= tolerance\n",
    "assert np.linalg.norm(j_canonical @ j_mesh - np.identity(2)) <= tolerance\n",
    "\n",
    "# determinants of jacobians should multiply to 1\n",
    "d_mesh = triangle.transform_to_mesh_jacobian_determinant_vertex_list(vertex_list)\n",
    "d_canonical = triangle.transform_to_canonical_jacobian_determinant_vertex_list(vertex_list)\n",
    "assert abs(d_mesh * d_canonical - 1) <= tolerance"
   ]
  },
  {
   "cell_type": "code",
   "execution_count": null,
   "id": "ae244a85",
   "metadata": {},
   "outputs": [],
   "source": []
  }
 ],
 "metadata": {
  "kernelspec": {
   "display_name": "Python 3 (ipykernel)",
   "language": "python",
   "name": "python3"
  },
  "language_info": {
   "codemirror_mode": {
    "name": "ipython",
    "version": 3
   },
   "file_extension": ".py",
   "mimetype": "text/x-python",
   "name": "python",
   "nbconvert_exporter": "python",
   "pygments_lexer": "ipython3",
   "version": "3.7.10"
  }
 },
 "nbformat": 4,
 "nbformat_minor": 5
}
