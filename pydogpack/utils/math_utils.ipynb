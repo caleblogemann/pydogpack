{
 "cells": [
  {
   "cell_type": "markdown",
   "id": "controversial-potter",
   "metadata": {},
   "source": [
    "# Math Utils"
   ]
  },
  {
   "cell_type": "markdown",
   "id": "sporting-dublin",
   "metadata": {},
   "source": [
    "This notebook is for exploring and understanding the functions in math_utils.py"
   ]
  },
  {
   "cell_type": "code",
   "execution_count": 3,
   "id": "charitable-robin",
   "metadata": {},
   "outputs": [],
   "source": [
    "import pydogpack.utils.math_utils as math_utils\n",
    "\n",
    "import numpy as np"
   ]
  },
  {
   "cell_type": "markdown",
   "id": "underlying-syndrome",
   "metadata": {},
   "source": [
    "## Quadrature"
   ]
  },
  {
   "cell_type": "markdown",
   "id": "anticipated-audio",
   "metadata": {},
   "source": [
    "### Quadrature on a rectangle\n"
   ]
  },
  {
   "cell_type": "code",
   "execution_count": 8,
   "id": "buried-dining",
   "metadata": {},
   "outputs": [],
   "source": [
    "x_left = 0.0\n",
    "x_right = 1.0\n",
    "y_bottom = 0.0\n",
    "y_top = 2.0\n",
    "\n",
    "quad_order = 5\n",
    "tuple_ = np.polynomial.legendre.leggauss(quad_order)\n",
    "quad_pts_1d = tuple_[0]\n",
    "quad_wgts_1d = tuple_[1]\n",
    "\n",
    "x_center = 0.5 * (x_left + x_right)\n",
    "delta_x = x_right - x_left\n",
    "quad_pts_x = quad_pts_1d"
   ]
  },
  {
   "cell_type": "code",
   "execution_count": 9,
   "id": "industrial-detective",
   "metadata": {},
   "outputs": [],
   "source": [
    "test = [[quad_pts_1d[i], quad_pts_1d[j]] for i in range(quad_order) for j in range(quad_order)]"
   ]
  },
  {
   "cell_type": "code",
   "execution_count": 10,
   "id": "prescribed-replica",
   "metadata": {},
   "outputs": [
    {
     "data": {
      "text/plain": [
       "[[-0.906179845938664, -0.906179845938664],\n",
       " [-0.906179845938664, -0.5384693101056831],\n",
       " [-0.906179845938664, 0.0],\n",
       " [-0.906179845938664, 0.5384693101056831],\n",
       " [-0.906179845938664, 0.906179845938664],\n",
       " [-0.5384693101056831, -0.906179845938664],\n",
       " [-0.5384693101056831, -0.5384693101056831],\n",
       " [-0.5384693101056831, 0.0],\n",
       " [-0.5384693101056831, 0.5384693101056831],\n",
       " [-0.5384693101056831, 0.906179845938664],\n",
       " [0.0, -0.906179845938664],\n",
       " [0.0, -0.5384693101056831],\n",
       " [0.0, 0.0],\n",
       " [0.0, 0.5384693101056831],\n",
       " [0.0, 0.906179845938664],\n",
       " [0.5384693101056831, -0.906179845938664],\n",
       " [0.5384693101056831, -0.5384693101056831],\n",
       " [0.5384693101056831, 0.0],\n",
       " [0.5384693101056831, 0.5384693101056831],\n",
       " [0.5384693101056831, 0.906179845938664],\n",
       " [0.906179845938664, -0.906179845938664],\n",
       " [0.906179845938664, -0.5384693101056831],\n",
       " [0.906179845938664, 0.0],\n",
       " [0.906179845938664, 0.5384693101056831],\n",
       " [0.906179845938664, 0.906179845938664]]"
      ]
     },
     "execution_count": 10,
     "metadata": {},
     "output_type": "execute_result"
    }
   ],
   "source": [
    "test"
   ]
  },
  {
   "cell_type": "code",
   "execution_count": null,
   "id": "global-sunset",
   "metadata": {},
   "outputs": [],
   "source": []
  }
 ],
 "metadata": {
  "kernelspec": {
   "display_name": "Python 3",
   "language": "python",
   "name": "python3"
  },
  "language_info": {
   "codemirror_mode": {
    "name": "ipython",
    "version": 3
   },
   "file_extension": ".py",
   "mimetype": "text/x-python",
   "name": "python",
   "nbconvert_exporter": "python",
   "pygments_lexer": "ipython3",
   "version": "3.7.9"
  }
 },
 "nbformat": 4,
 "nbformat_minor": 5
}
