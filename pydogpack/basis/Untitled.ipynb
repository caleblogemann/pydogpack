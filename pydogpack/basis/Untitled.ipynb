{
 "cells": [
  {
   "cell_type": "code",
   "execution_count": 2,
   "id": "operational-testing",
   "metadata": {},
   "outputs": [],
   "source": [
    "from math import factorial"
   ]
  },
  {
   "cell_type": "code",
   "execution_count": 3,
   "id": "applicable-assist",
   "metadata": {},
   "outputs": [],
   "source": [
    "def comb(n, r):\n",
    "    return factorial(n) / (factorial(n - r) * factorial(r))\n",
    "\n",
    "def perm(n, r):\n",
    "    return factorial(n) / factorial(n - r)"
   ]
  },
  {
   "cell_type": "code",
   "execution_count": 5,
   "id": "fuzzy-amber",
   "metadata": {},
   "outputs": [
    {
     "data": {
      "text/plain": [
       "2477475.0"
      ]
     },
     "execution_count": 5,
     "metadata": {},
     "output_type": "execute_result"
    }
   ],
   "source": [
    "comb(15, 6) * comb(12, 4)"
   ]
  },
  {
   "cell_type": "code",
   "execution_count": 6,
   "id": "diagnostic-chaos",
   "metadata": {},
   "outputs": [
    {
     "data": {
      "text/plain": [
       "42336.0"
      ]
     },
     "execution_count": 6,
     "metadata": {},
     "output_type": "execute_result"
    }
   ],
   "source": [
    "comb(8, 3) * comb(9, 5) * comb(4, 2)"
   ]
  },
  {
   "cell_type": "code",
   "execution_count": 33,
   "id": "capital-gallery",
   "metadata": {},
   "outputs": [
    {
     "data": {
      "text/plain": [
       "126.0"
      ]
     },
     "execution_count": 33,
     "metadata": {},
     "output_type": "execute_result"
    }
   ],
   "source": [
    "comb(9, 4)"
   ]
  },
  {
   "cell_type": "code",
   "execution_count": 40,
   "id": "antique-penguin",
   "metadata": {},
   "outputs": [
    {
     "data": {
      "text/plain": [
       "55440.0"
      ]
     },
     "execution_count": 40,
     "metadata": {},
     "output_type": "execute_result"
    }
   ],
   "source": [
    "perm(11, 5)"
   ]
  },
  {
   "cell_type": "markdown",
   "id": "allied-mailman",
   "metadata": {},
   "source": [
    "588/2"
   ]
  },
  {
   "cell_type": "code",
   "execution_count": 45,
   "id": "independent-membrane",
   "metadata": {},
   "outputs": [
    {
     "data": {
      "text/plain": [
       "7.515632515632515e-07"
      ]
     },
     "execution_count": 45,
     "metadata": {},
     "output_type": "execute_result"
    }
   ],
   "source": [
    "10/55440/20/2/2/3"
   ]
  },
  {
   "cell_type": "code",
   "execution_count": 65,
   "id": "bigger-oliver",
   "metadata": {},
   "outputs": [
    {
     "data": {
      "text/plain": [
       "7429.0"
      ]
     },
     "execution_count": 65,
     "metadata": {},
     "output_type": "execute_result"
    }
   ],
   "source": [
    "comb(25, 9)/5/5/11"
   ]
  },
  {
   "cell_type": "markdown",
   "id": "finnish-association",
   "metadata": {},
   "source": [
    " 495/5"
   ]
  },
  {
   "cell_type": "code",
   "execution_count": 60,
   "id": "gorgeous-chicago",
   "metadata": {},
   "outputs": [
    {
     "data": {
      "text/plain": [
       "9.0"
      ]
     },
     "execution_count": 60,
     "metadata": {},
     "output_type": "execute_result"
    }
   ],
   "source": [
    "495/5//11"
   ]
  },
  {
   "cell_type": "code",
   "execution_count": 66,
   "id": "working-xerox",
   "metadata": {},
   "outputs": [
    {
     "data": {
      "text/plain": [
       "0.13568447974155337"
      ]
     },
     "execution_count": 66,
     "metadata": {},
     "output_type": "execute_result"
    }
   ],
   "source": [
    "9*2*56/7429"
   ]
  },
  {
   "cell_type": "code",
   "execution_count": null,
   "id": "vital-municipality",
   "metadata": {},
   "outputs": [],
   "source": []
  }
 ],
 "metadata": {
  "kernelspec": {
   "display_name": "Python 3",
   "language": "python",
   "name": "python3"
  },
  "language_info": {
   "codemirror_mode": {
    "name": "ipython",
    "version": 3
   },
   "file_extension": ".py",
   "mimetype": "text/x-python",
   "name": "python",
   "nbconvert_exporter": "python",
   "pygments_lexer": "ipython3",
   "version": "3.7.9"
  }
 },
 "nbformat": 4,
 "nbformat_minor": 5
}
