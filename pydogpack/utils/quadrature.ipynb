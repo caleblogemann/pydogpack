{
 "cells": [
  {
   "cell_type": "code",
   "execution_count": 1,
   "metadata": {},
   "outputs": [],
   "source": [
    "import pydogpack.utils.quadrature as quadrature\n",
    "import numpy as np"
   ]
  },
  {
   "cell_type": "markdown",
   "metadata": {},
   "source": [
    "# Quadrature"
   ]
  },
  {
   "cell_type": "markdown",
   "metadata": {},
   "source": [
    "## 1D quadrature"
   ]
  },
  {
   "cell_type": "markdown",
   "metadata": {},
   "source": [
    "### Quadrature Points and Weights"
   ]
  },
  {
   "cell_type": "code",
   "execution_count": 3,
   "metadata": {},
   "outputs": [
    {
     "name": "stdout",
     "output_type": "stream",
     "text": [
      "Quadrature Points\n",
      "[-0.90617985 -0.53846931  0.          0.53846931  0.90617985]\n",
      "Quadrature Weights\n",
      "[0.23692689 0.47862867 0.56888889 0.47862867 0.23692689]\n"
     ]
    }
   ],
   "source": [
    "quad_order = 5\n",
    "tuple_ = quadrature.gauss_pts_and_wgts_1d_canonical(quad_order)\n",
    "quad_pts = tuple_[0]\n",
    "quad_wgts = tuple_[1]\n",
    "print(\"Quadrature Points\")\n",
    "print(quad_pts)\n",
    "print(\"Quadrature Weights\")\n",
    "print(quad_wgts)"
   ]
  },
  {
   "cell_type": "markdown",
   "metadata": {},
   "source": [
    "### Quadrature Example"
   ]
  },
  {
   "cell_type": "code",
   "execution_count": 33,
   "metadata": {},
   "outputs": [
    {
     "name": "stdout",
     "output_type": "stream",
     "text": [
      "Quadrature Result\n",
      "[0.06782644 0.13565288]\n",
      "Exact Integral\n",
      "[0.06782644 0.13565288]\n",
      "Error\n",
      "[-2.77555756e-14 -5.55111512e-14]\n"
     ]
    }
   ],
   "source": [
    "quad_order = 5\n",
    "f = lambda x: np.array([np.cos(x), 2.0 * np.cos(x)])\n",
    "F = lambda x: np.array([np.sin(x), 2.0 * np.sin(x)])\n",
    "quad_integral = quadrature.gauss_quadrature_1d(f, 1.0, 2.0, quad_order)\n",
    "exact_integral = F(2.0) - F(1.0)\n",
    "error = exact_integral - quad_integral\n",
    "print(\"Quadrature Result\")\n",
    "print(quad_integral)\n",
    "print(\"Exact Integral\")\n",
    "print(exact_integral)\n",
    "print(\"Error\")\n",
    "print(error)"
   ]
  },
  {
   "cell_type": "code",
   "execution_count": 34,
   "metadata": {},
   "outputs": [
    {
     "data": {
      "text/plain": [
       "<function __main__.<lambda>(x)>"
      ]
     },
     "execution_count": 34,
     "metadata": {},
     "output_type": "execute_result"
    }
   ],
   "source": [
    "f"
   ]
  },
  {
   "cell_type": "markdown",
   "metadata": {},
   "source": [
    "### Test Quadrature Exactness"
   ]
  },
  {
   "cell_type": "markdown",
   "metadata": {},
   "source": [
    "Gauss Legendre Quadrature of order n is exact for polynomials of degree 2n - 1 or less"
   ]
  },
  {
   "cell_type": "code",
   "execution_count": 14,
   "metadata": {},
   "outputs": [],
   "source": [
    "max_quad_order = 5\n",
    "tolerance = 1e-15\n",
    "for quad_order in range(1, max_quad_order + 1):\n",
    "    for degree in range(2 * quad_order):\n",
    "        f = lambda x: np.power(x, degree)\n",
    "        F = lambda x: np.power(x, degree + 1) / (degree + 1)\n",
    "        quad_integral = quadrature.gauss_quadrature_1d_canonical(f, quad_order)\n",
    "        exact_integral = F(1) - F(-1)\n",
    "        error = abs(exact_integral - quad_integral)\n",
    "        assert error <= tolerance"
   ]
  },
  {
   "cell_type": "markdown",
   "metadata": {},
   "source": [
    "## 2D Quadrature on Rectangles"
   ]
  },
  {
   "cell_type": "markdown",
   "metadata": {},
   "source": [
    "### Quadrature Points and weights"
   ]
  },
  {
   "cell_type": "code",
   "execution_count": 28,
   "metadata": {},
   "outputs": [
    {
     "name": "stdout",
     "output_type": "stream",
     "text": [
      "Quadrature Points\n",
      "[[-0.77459667 -0.77459667]\n",
      " [-0.77459667  0.        ]\n",
      " [-0.77459667  0.77459667]\n",
      " [ 0.         -0.77459667]\n",
      " [ 0.          0.        ]\n",
      " [ 0.          0.77459667]\n",
      " [ 0.77459667 -0.77459667]\n",
      " [ 0.77459667  0.        ]\n",
      " [ 0.77459667  0.77459667]]\n",
      "Quadrature Weights\n",
      "[0.30864198 0.49382716 0.30864198 0.49382716 0.79012346 0.49382716\n",
      " 0.30864198 0.49382716 0.30864198]\n"
     ]
    }
   ],
   "source": [
    "quad_order = 3\n",
    "tuple_ = quadrature.gauss_pts_and_wgts_2d_canonical(quad_order)\n",
    "quad_pts = tuple_[0]\n",
    "quad_wgts = tuple_[1]\n",
    "print(\"Quadrature Points\")\n",
    "print(quad_pts)\n",
    "print(\"Quadrature Weights\")\n",
    "print(quad_wgts)"
   ]
  },
  {
   "cell_type": "markdown",
   "metadata": {},
   "source": [
    "### Quadrature Example"
   ]
  },
  {
   "cell_type": "code",
   "execution_count": 53,
   "metadata": {},
   "outputs": [
    {
     "name": "stdout",
     "output_type": "stream",
     "text": [
      "Quadrature Result\n",
      "[ 1.68294197 12.77811219]\n",
      "Exact Integral\n",
      "[ 1.68294197 12.7781122 ]\n",
      "Error\n",
      "[6.89226454e-13 4.48394921e-09]\n"
     ]
    }
   ],
   "source": [
    "quad_order = 5\n",
    "x_left = 0.0\n",
    "x_right = 1.0\n",
    "y_bottom = 0.0\n",
    "y_top = 2.0\n",
    "f = lambda x: np.array([np.cos(x[..., 0]), 2.0 * np.exp(x[..., 1])])\n",
    "F = lambda x: np.array([np.sin(x[..., 0]) * x[..., 1], 2.0 * np.exp(x[..., 1]) * x[..., 0]])\n",
    "quad_integral = quadrature.gauss_quadrature_2d(f, x_left, x_right, y_bottom, y_top, quad_order)\n",
    "exact_integral = (F(np.array([x_right, y_top])) \n",
    "    - F(np.array([x_left, y_top])) \n",
    "    - F(np.array([x_right, y_bottom])) \n",
    "    + F(np.array([x_left, y_bottom])))\n",
    "error  = abs(exact_integral - quad_integral)\n",
    "print(\"Quadrature Result\")\n",
    "print(quad_integral)\n",
    "print(\"Exact Integral\")\n",
    "print(exact_integral)\n",
    "print(\"Error\")\n",
    "print(error)"
   ]
  },
  {
   "cell_type": "code",
   "execution_count": 51,
   "metadata": {},
   "outputs": [
    {
     "data": {
      "text/plain": [
       "array([ 0.5417745, -0.       , -0.5417745, -0.       ,  0.       ,\n",
       "        0.       , -0.5417745,  0.       ,  0.5417745])"
      ]
     },
     "execution_count": 51,
     "metadata": {},
     "output_type": "execute_result"
    }
   ],
   "source": [
    "x = quad_pts\n",
    "np.sin(x[..., 0]) * x[..., 1]"
   ]
  },
  {
   "cell_type": "code",
   "execution_count": 24,
   "metadata": {},
   "outputs": [],
   "source": [
    "quad_pts_1d = tuple_[0]\n",
    "quad_wgts_1d = tuple_[1]\n",
    "quad_pts_2d = np.array([[quad_pts_1d[i], quad_pts_1d[j]] for i in range(quad_order) for j in range(quad_order)])\n",
    "quad_wgts_2d = np.array([quad_wgts_1d[i] * quad_wgts_1d[j] for i in range(quad_order) for j in range(quad_order)])"
   ]
  },
  {
   "cell_type": "code",
   "execution_count": 27,
   "metadata": {},
   "outputs": [
    {
     "data": {
      "text/plain": [
       "(25, 2)"
      ]
     },
     "execution_count": 27,
     "metadata": {},
     "output_type": "execute_result"
    }
   ],
   "source": [
    "quad_pts_2d.shape"
   ]
  },
  {
   "cell_type": "code",
   "execution_count": 25,
   "metadata": {},
   "outputs": [
    {
     "data": {
      "text/plain": [
       "array([0.05613435, 0.1134    , 0.13478507, 0.1134    , 0.05613435,\n",
       "       0.1134    , 0.2290854 , 0.27228653, 0.2290854 , 0.1134    ,\n",
       "       0.13478507, 0.27228653, 0.32363457, 0.27228653, 0.13478507,\n",
       "       0.1134    , 0.2290854 , 0.27228653, 0.2290854 , 0.1134    ,\n",
       "       0.05613435, 0.1134    , 0.13478507, 0.1134    , 0.05613435])"
      ]
     },
     "execution_count": 25,
     "metadata": {},
     "output_type": "execute_result"
    }
   ],
   "source": [
    "quad_wgts_2d"
   ]
  },
  {
   "cell_type": "code",
   "execution_count": 19,
   "metadata": {},
   "outputs": [
    {
     "data": {
      "text/plain": [
       "array([ 0.82116191,  0.48795004, -0.        , -0.48795004, -0.82116191,\n",
       "        0.48795004,  0.2899492 , -0.        , -0.2899492 , -0.48795004,\n",
       "       -0.        , -0.        ,  0.        ,  0.        ,  0.        ,\n",
       "       -0.48795004, -0.2899492 ,  0.        ,  0.2899492 ,  0.48795004,\n",
       "       -0.82116191, -0.48795004,  0.        ,  0.48795004,  0.82116191])"
      ]
     },
     "execution_count": 19,
     "metadata": {},
     "output_type": "execute_result"
    }
   ],
   "source": [
    "np.kron(quad_pts_1d, quad_pts_1d)"
   ]
  },
  {
   "cell_type": "code",
   "execution_count": null,
   "metadata": {},
   "outputs": [],
   "source": []
  }
 ],
 "metadata": {
  "kernelspec": {
   "display_name": "Python 3",
   "language": "python",
   "name": "python3"
  },
  "language_info": {
   "codemirror_mode": {
    "name": "ipython",
    "version": 3
   },
   "file_extension": ".py",
   "mimetype": "text/x-python",
   "name": "python",
   "nbconvert_exporter": "python",
   "pygments_lexer": "ipython3",
   "version": "3.7.6"
  }
 },
 "nbformat": 4,
 "nbformat_minor": 4
}
