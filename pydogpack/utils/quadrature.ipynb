{
 "cells": [
  {
   "cell_type": "code",
   "execution_count": 2,
   "metadata": {},
   "outputs": [],
   "source": [
    "import pydogpack.utils.quadrature as quadrature\n",
    "import numpy as np\n",
    "import matplotlib.pyplot as plt\n",
    "from IPython.display import HTML"
   ]
  },
  {
   "cell_type": "markdown",
   "metadata": {},
   "source": [
    "# Quadrature"
   ]
  },
  {
   "cell_type": "markdown",
   "metadata": {},
   "source": [
    "## 1D quadrature"
   ]
  },
  {
   "cell_type": "markdown",
   "metadata": {},
   "source": [
    "### Quadrature Points and Weights"
   ]
  },
  {
   "cell_type": "code",
   "execution_count": 8,
   "metadata": {},
   "outputs": [
    {
     "name": "stdout",
     "output_type": "stream",
     "text": [
      "Quadrature Points\n",
      "[[-0.90617985 -0.53846931  0.          0.53846931  0.90617985]]\n",
      "Quadrature Weights\n",
      "[0.23692689 0.47862867 0.56888889 0.47862867 0.23692689]\n"
     ]
    }
   ],
   "source": [
    "quad_order = 5\n",
    "tuple_ = quadrature.gauss_pts_and_wgts_1d_canonical(quad_order)\n",
    "quad_pts = tuple_[0]\n",
    "quad_wgts = tuple_[1]\n",
    "print(\"Quadrature Points\")\n",
    "print(quad_pts)\n",
    "print(\"Quadrature Weights\")\n",
    "print(quad_wgts)"
   ]
  },
  {
   "cell_type": "code",
   "execution_count": 10,
   "metadata": {},
   "outputs": [
    {
     "data": {
      "text/plain": [
       "(1,)"
      ]
     },
     "execution_count": 10,
     "metadata": {},
     "output_type": "execute_result"
    }
   ],
   "source": [
    "quad_pts[:, 0].shape"
   ]
  },
  {
   "cell_type": "markdown",
   "metadata": {},
   "source": [
    "### Quadrature Example"
   ]
  },
  {
   "cell_type": "code",
   "execution_count": 6,
   "metadata": {},
   "outputs": [
    {
     "name": "stdout",
     "output_type": "stream",
     "text": [
      "Quadrature Result\n",
      "[0.06782644 0.13565288]\n",
      "Exact Integral\n",
      "[0.06782644 0.13565288]\n",
      "Error\n",
      "[-2.77555756e-14 -5.55111512e-14]\n"
     ]
    }
   ],
   "source": [
    "quad_order = 5\n",
    "f = lambda x: np.array([np.cos(x[0]), 2.0 * np.cos(x[0])])\n",
    "F = lambda x: np.array([np.sin(x), 2.0 * np.sin(x)])\n",
    "quad_integral = quadrature.gauss_quadrature_1d(f, 1.0, 2.0, quad_order)\n",
    "exact_integral = F(2.0) - F(1.0)\n",
    "error = exact_integral - quad_integral\n",
    "print(\"Quadrature Result\")\n",
    "print(quad_integral)\n",
    "print(\"Exact Integral\")\n",
    "print(exact_integral)\n",
    "print(\"Error\")\n",
    "print(error)"
   ]
  },
  {
   "cell_type": "markdown",
   "metadata": {},
   "source": [
    "### Test Quadrature Exactness"
   ]
  },
  {
   "cell_type": "markdown",
   "metadata": {},
   "source": [
    "Gauss Legendre Quadrature of order n is exact for polynomials of degree 2n - 1 or less"
   ]
  },
  {
   "cell_type": "code",
   "execution_count": 7,
   "metadata": {},
   "outputs": [],
   "source": [
    "max_quad_order = 5\n",
    "tolerance = 1e-15\n",
    "for quad_order in range(1, max_quad_order + 1):\n",
    "    for degree in range(2 * quad_order):\n",
    "        f = lambda x: np.power(x[0], degree)\n",
    "        F = lambda x: np.power(x, degree + 1) / (degree + 1)\n",
    "        quad_integral = quadrature.gauss_quadrature_1d_canonical(f, quad_order)\n",
    "        exact_integral = F(1) - F(-1)\n",
    "        error = abs(exact_integral - quad_integral)\n",
    "        assert error <= tolerance"
   ]
  },
  {
   "cell_type": "markdown",
   "metadata": {},
   "source": [
    "## 2D Quadrature on Rectangles"
   ]
  },
  {
   "cell_type": "markdown",
   "metadata": {},
   "source": [
    "### Quadrature Points and weights"
   ]
  },
  {
   "cell_type": "code",
   "execution_count": 26,
   "metadata": {},
   "outputs": [
    {
     "name": "stdout",
     "output_type": "stream",
     "text": [
      "Quadrature Points\n",
      "[[-0.90617985 -0.90617985 -0.90617985 -0.90617985 -0.90617985 -0.53846931\n",
      "  -0.53846931 -0.53846931 -0.53846931 -0.53846931  0.          0.\n",
      "   0.          0.          0.          0.53846931  0.53846931  0.53846931\n",
      "   0.53846931  0.53846931  0.90617985  0.90617985  0.90617985  0.90617985\n",
      "   0.90617985]\n",
      " [-0.90617985 -0.53846931  0.          0.53846931  0.90617985 -0.90617985\n",
      "  -0.53846931  0.          0.53846931  0.90617985 -0.90617985 -0.53846931\n",
      "   0.          0.53846931  0.90617985 -0.90617985 -0.53846931  0.\n",
      "   0.53846931  0.90617985 -0.90617985 -0.53846931  0.          0.53846931\n",
      "   0.90617985]]\n",
      "Quadrature Weights\n",
      "[0.05613435 0.1134     0.13478507 0.1134     0.05613435 0.1134\n",
      " 0.2290854  0.27228653 0.2290854  0.1134     0.13478507 0.27228653\n",
      " 0.32363457 0.27228653 0.13478507 0.1134     0.2290854  0.27228653\n",
      " 0.2290854  0.1134     0.05613435 0.1134     0.13478507 0.1134\n",
      " 0.05613435]\n"
     ]
    },
    {
     "data": {
      "image/png": "[encoded data removed]",
      "text/plain": [
       "<Figure size 432x288 with 1 Axes>"
      ]
     },
     "metadata": {
      "needs_background": "light"
     },
     "output_type": "display_data"
    }
   ],
   "source": [
    "vertices = np.array([[-1, -1], [1, -1], [1, 1], [-1, 1]])\n",
    "quad_order = 5\n",
    "tuple_ = quadrature.gauss_pts_and_wgts_2d_square_canonical(quad_order)\n",
    "quad_pts = tuple_[0]\n",
    "quad_wgts = tuple_[1]\n",
    "print(\"Quadrature Points\")\n",
    "print(quad_pts)\n",
    "print(\"Quadrature Weights\")\n",
    "print(quad_wgts)\n",
    "fig, axes = plt.subplots()\n",
    "axes.plot(quad_pts[0], quad_pts[1], 'k.')\n",
    "x = np.append(vertices[:, 0], vertices[0, 0])\n",
    "y = np.append(vertices[:, 1], vertices[0, 1])\n",
    "axes.plot(x, y, 'k')\n",
    "axes.set_xlabel(\"x\")\n",
    "axes.set_ylabel(\"y\")\n",
    "axes.set_title(\"Order = \" + str(quad_order))\n",
    "fig.savefig(\"rectangular_quad_\" + str(quad_order) + \".pdf\")"
   ]
  },
  {
   "cell_type": "markdown",
   "metadata": {},
   "source": [
    "### Quadrature Example"
   ]
  },
  {
   "cell_type": "code",
   "execution_count": 7,
   "metadata": {},
   "outputs": [
    {
     "name": "stdout",
     "output_type": "stream",
     "text": [
      "Quadrature Result\n",
      "[ 1.68294197 12.77811219]\n",
      "Exact Integral\n",
      "[ 1.68294197 12.7781122 ]\n",
      "Error\n",
      "[6.89004409e-13 4.48394744e-09]\n"
     ]
    }
   ],
   "source": [
    "quad_order = 5\n",
    "x_left = 0.0\n",
    "x_right = 1.0\n",
    "y_bottom = 0.0\n",
    "y_top = 2.0\n",
    "f = lambda x: np.array([np.cos(x[0]), 2.0 * np.exp(x[1])])\n",
    "F = lambda x: np.array([np.sin(x[0]) * x[1], 2.0 * np.exp(x[1]) * x[0]])\n",
    "quad_integral = quadrature.gauss_quadrature_2d(f, x_left, x_right, y_bottom, y_top, quad_order)\n",
    "exact_integral = (F(np.array([x_right, y_top])) \n",
    "    - F(np.array([x_left, y_top])) \n",
    "    - F(np.array([x_right, y_bottom])) \n",
    "    + F(np.array([x_left, y_bottom])))\n",
    "error  = abs(exact_integral - quad_integral)\n",
    "print(\"Quadrature Result\")\n",
    "print(quad_integral)\n",
    "print(\"Exact Integral\")\n",
    "print(exact_integral)\n",
    "print(\"Error\")\n",
    "print(error)"
   ]
  },
  {
   "cell_type": "markdown",
   "metadata": {},
   "source": [
    "### Quadrature Exactness Test"
   ]
  },
  {
   "cell_type": "markdown",
   "metadata": {},
   "source": [
    "2D Quadrature of order n is exact for all polynomials of degree 2n - 1 or less\n",
    "n is the number of points in 1 dimension, so there are n^2 total points\n",
    "In 2D there are n + 1 polynomials of degree n, for example there are 3 polynomials of degree 2, x^2, xy, and y^2"
   ]
  },
  {
   "cell_type": "code",
   "execution_count": 8,
   "metadata": {},
   "outputs": [],
   "source": [
    "max_quad_order = 5\n",
    "tolerance = 1e-14\n",
    "for quad_order in range(1, max_quad_order + 1):\n",
    "    for degree in range(2 * quad_order):\n",
    "        for x_degree in range(degree + 1):\n",
    "            # check all polynomial x^{x_degree} y^{degree - x_degree}\n",
    "            y_degree = degree - x_degree\n",
    "            f = lambda x: np.power(x[0], x_degree) * np.power(x[1], y_degree)\n",
    "            F = lambda x: np.power(x[0], x_degree + 1) / (x_degree + 1) * np.power(x[1], y_degree + 1) / (y_degree + 1)\n",
    "            quad_integral = quadrature.gauss_quadrature_2d_canonical(f, quad_order)\n",
    "            exact_integral = F(np.array([1, 1])) - F(np.array([-1, 1])) - F(np.array([1, -1])) + F(np.array([-1, -1]))\n",
    "            error = abs(exact_integral - quad_integral)\n",
    "            assert error <= tolerance"
   ]
  },
  {
   "cell_type": "markdown",
   "metadata": {},
   "source": [
    "## 2D Quadrature on Triangles"
   ]
  },
  {
   "cell_type": "markdown",
   "metadata": {},
   "source": [
    "## Quadrature Points and Weights"
   ]
  },
  {
   "cell_type": "code",
   "execution_count": 21,
   "metadata": {},
   "outputs": [
    {
     "name": "stdout",
     "output_type": "stream",
     "text": [
      "Quadrature Points\n",
      "[[-0.33333333 -0.08141482 -0.08141482 -0.83717035 -0.65886138 -0.65886138\n",
      "   0.31772277 -0.89890554 -0.89890554  0.79781109  0.45698479 -0.47377434\n",
      "  -0.98321045 -0.98321045 -0.47377434  0.45698479]\n",
      " [-0.33333333 -0.83717035 -0.08141482 -0.08141482  0.31772277 -0.65886138\n",
      "  -0.65886138  0.79781109 -0.89890554 -0.89890554 -0.98321045  0.45698479\n",
      "  -0.47377434  0.45698479 -0.98321045 -0.47377434]]\n",
      "Quadrature Weights\n",
      "[0.28863122 0.19018327 0.19018327 0.19018327 0.20643474 0.20643474\n",
      " 0.20643474 0.064917   0.064917   0.064917   0.05446063 0.05446063\n",
      " 0.05446063 0.05446063 0.05446063 0.05446063]\n"
     ]
    },
    {
     "data": {
      "image/png": "[encoded data removed]",
      "text/plain": [
       "<Figure size 432x288 with 1 Axes>"
      ]
     },
     "metadata": {
      "needs_background": "light"
     },
     "output_type": "display_data"
    }
   ],
   "source": [
    "vertices = np.array([[-1, -1], [1, -1], [-1, 1]])\n",
    "quad_order = 5\n",
    "tuple_ = quadrature.gauss_pts_and_wgts_2d_triangle_canonical(quad_order)\n",
    "quad_pts = tuple_[0]\n",
    "quad_wgts = tuple_[1]\n",
    "print(\"Quadrature Points\")\n",
    "print(quad_pts)\n",
    "print(\"Quadrature Weights\")\n",
    "print(quad_wgts)\n",
    "fig, axes = plt.subplots()\n",
    "axes.plot(quad_pts[0], quad_pts[1], 'k.')\n",
    "x = np.append(vertices[:, 0], vertices[0, 0])\n",
    "y = np.append(vertices[:, 1], vertices[0, 1])\n",
    "axes.plot(x, y, 'k')\n",
    "axes.set_xlabel(\"x\")\n",
    "axes.set_ylabel(\"y\")\n",
    "axes.set_title(\"Order = \" + str(quad_order))\n",
    "fig.savefig(\"triangle_quad_\" + str(quad_order) + \".pdf\")"
   ]
  },
  {
   "cell_type": "markdown",
   "metadata": {},
   "source": [
    "## Quadrature Example"
   ]
  },
  {
   "cell_type": "code",
   "execution_count": 11,
   "metadata": {},
   "outputs": [
    {
     "name": "stdout",
     "output_type": "stream",
     "text": [
      "Quadrature Result\n",
      "[1.68294182 3.22928729]\n",
      "Exact Integral\n",
      "[1.68294197 3.22928701]\n",
      "Error\n",
      "[1.51278014e-07 2.80488351e-07]\n"
     ]
    }
   ],
   "source": [
    "quad_order = 6\n",
    "f = lambda x: np.array([np.cos(x[0]), 2.0 * np.exp(x[1])])\n",
    "#F = lambda x: np.array([np.sin(x[0]) * x[1], 2.0 * np.exp(x[1]) * x[0]])\n",
    "quad_integral = quadrature.gauss_quadrature_2d_triangle_canonical(f, quad_order)\n",
    "# dintt{-1}{1}{\\dintt{-1}{-y}{cos{x}}{x}}{y} = 2sin(1)\n",
    "# dintt{-1}{1}{\\dintt{-1}{-x}{2e^y}{y}}{x} = 2e - 6e^-1\n",
    "exact_integral = np.array([2.0 * np.sin(1.0), 2 * np.exp(1) - 6 * np.exp(-1)])\n",
    "error  = abs(exact_integral - quad_integral)\n",
    "print(\"Quadrature Result\")\n",
    "print(quad_integral)\n",
    "print(\"Exact Integral\")\n",
    "print(exact_integral)\n",
    "print(\"Error\")\n",
    "print(error)"
   ]
  },
  {
   "cell_type": "markdown",
   "metadata": {},
   "source": [
    "## Test Quadrature Exactness"
   ]
  },
  {
   "cell_type": "markdown",
   "metadata": {},
   "source": [
    "Triangular Quadrature can be found for degrees of precision/exactness for any integer and are given in the paper by Dunavant up to polynomials of degree 20. In the discontinous galerkin method quadrature is needed of degree 2n - 2 where n is the spatial order of the method. This is because we have integrals of products of polynomials up to degree (n - 1). For example the mass matrix is computed by integrals of phi_i times phi_j, where phi_i and phi_j are polynomials of degree (n - 1), so the total degree is 2n - 2. For first, second, and third order methods we need quadrature that is exact for polynomials of degree 0, 2, and 4. The quadrature utility is made so that the spatial order of the method is given, and the quadrature of the required precision is returned."
   ]
  },
  {
   "cell_type": "markdown",
   "metadata": {},
   "source": [
    "Also we desire quadrature of all positive weights as this provides stability and prevents erroneous negative values from occuring."
   ]
  },
  {
   "cell_type": "markdown",
   "metadata": {},
   "source": [
    "Triangular quadrature of order n is exact for polynomials of degree n"
   ]
  },
  {
   "cell_type": "code",
   "execution_count": 4,
   "metadata": {},
   "outputs": [],
   "source": [
    "max_quad_order = 6\n",
    "tolerance = 1e-14\n",
    "for quad_order in range(1, max_quad_order + 1):\n",
    "    #print(\"Quad Order\")\n",
    "    #print(quad_order)\n",
    "    for degree in range(quad_order + 1):\n",
    "        for x_degree in range(degree + 1):\n",
    "            # check all polynomial x^{x_degree} y^{degree - x_degree}\n",
    "            y_degree = degree - x_degree\n",
    "            f = lambda x: np.power(x[0], x_degree) * np.power(x[1], y_degree)\n",
    "            quad_integral = quadrature.gauss_quadrature_2d_triangle_canonical(f, quad_order)\n",
    "            i = x_degree\n",
    "            j = y_degree\n",
    "            exact_integral = np.power(-1, j + 1)/(j + 1) * ((1 / (i + j + 2) - 1 / (i + 1)) - (1 / (i + j + 2) * np.power(-1, i + j + 2) - 1 / (i + 1) * np.power(-1, i + 1)))\n",
    "#             print(quad_integral)\n",
    "#             print(exact_integral)\n",
    "            error = abs(exact_integral - quad_integral)\n",
    "            #print(i)\n",
    "            #print(j)\n",
    "            #print(error)\n",
    "            #if (error > tolerance):\n",
    "            #    import ipdb; ipdb.set_trace()\n",
    "            assert error <= tolerance"
   ]
  },
  {
   "cell_type": "code",
   "execution_count": 8,
   "metadata": {},
   "outputs": [],
   "source": [
    "# save quad_pts and wgts to file\n",
    "file_name = \"gauss_pts_and_wgts_triangle.txt\"\n",
    "with open(file_name, 'w') as file:\n",
    "    for quad_order in range(1, 6):\n",
    "        file.write(\"\\tcase \" + str(quad_order) + \":\\n\")\n",
    "        tuple_ = quadrature.gauss_pts_and_wgts_2d_triangle_canonical(quad_order)\n",
    "        quad_pts = tuple_[0]\n",
    "        quad_wgts = tuple_[1]\n",
    "        num_quad_pts = len(quad_wgts)\n",
    "        for i_quad_pt in range(num_quad_pts):\n",
    "            file.write(\"\\t\\tquad_pts->set(\" + str(i_quad_pt + 1) + \", 1, \" + str(quad_pts[0, i_quad_pt]) + \");\\n\")\n",
    "            file.write(\"\\t\\tquad_pts->set(\" + str(i_quad_pt + 1) + \", 2, \" + str(quad_pts[1, i_quad_pt]) + \");\\n\")\n",
    "        for i_quad_pt in range(num_quad_pts):\n",
    "            file.write(\"\\t\\tquad_wgts->set(\" + str(i_quad_pt + 1) + \", \" + str(quad_wgts[i_quad_pt]) + \");\\n\")\n",
    "            \n",
    "        file.write(\"\\t\\tbreak;\\n\")\n"
   ]
  },
  {
   "cell_type": "code",
   "execution_count": null,
   "metadata": {},
   "outputs": [],
   "source": []
  }
 ],
 "metadata": {
  "kernelspec": {
   "display_name": "Python 3 (ipykernel)",
   "language": "python",
   "name": "python3"
  },
  "language_info": {
   "codemirror_mode": {
    "name": "ipython",
    "version": 3
   },
   "file_extension": ".py",
   "mimetype": "text/x-python",
   "name": "python",
   "nbconvert_exporter": "python",
   "pygments_lexer": "ipython3",
   "version": "3.7.10"
  }
 },
 "nbformat": 4,
 "nbformat_minor": 4
}
